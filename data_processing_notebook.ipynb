{
 "cells": [
  {
   "cell_type": "code",
   "execution_count": 1,
   "id": "d5118ab3",
   "metadata": {},
   "outputs": [],
   "source": [
    "import pandas as pd"
   ]
  },
  {
   "cell_type": "code",
   "execution_count": 2,
   "id": "9cdd5cfe",
   "metadata": {},
   "outputs": [],
   "source": [
    "\n",
    "def json_to_df(filepath, filename):\n",
    "    try:\n",
    "        df = pd.read_json(filepath + filename)\n",
    "        return df\n",
    "    except:\n",
    "        print(\"Invalid file\") \n"
   ]
  },
  {
   "cell_type": "code",
   "execution_count": 3,
   "id": "c27f27bf",
   "metadata": {},
   "outputs": [],
   "source": [
    "BASE_DIR = \"Z:\\\\\"\n",
    "FILE_PATH = f\"{BASE_DIR}\\\\vct-international\\esports-data\\\\\""
   ]
  },
  {
   "cell_type": "code",
   "execution_count": 13,
   "id": "327d22bf",
   "metadata": {},
   "outputs": [],
   "source": [
    "players_df = json_to_df(FILE_PATH, \"players.json\")\n",
    "teams_df = json_to_df(FILE_PATH, \"teams.json\")\n",
    "tournaments_df = json_to_df(FILE_PATH, \"tournaments.json\")\n",
    "leagues_df = json_to_df(FILE_PATH, \"leagues.json\")"
   ]
  },
  {
   "cell_type": "code",
   "execution_count": 14,
   "id": "295282e7",
   "metadata": {},
   "outputs": [
    {
     "name": "stdout",
     "output_type": "stream",
     "text": [
      "Player Columns:  Index(['id', 'handle', 'first_name', 'last_name', 'status', 'photo_url',\n",
      "       'home_team_id', 'created_at', 'updated_at'],\n",
      "      dtype='object')\n",
      "\n",
      "Team Columns:  Index(['id', 'acronym', 'home_league_id', 'dark_logo_url', 'light_logo_url',\n",
      "       'slug', 'name'],\n",
      "      dtype='object')\n",
      "\n",
      "Tournament Columns:  Index(['id', 'status', 'league_id', 'time_zone', 'name'], dtype='object')\n",
      "\n",
      "Leauge Columns:  Index(['league_id', 'region', 'dark_logo_url', 'light_logo_url', 'name',\n",
      "       'slug'],\n",
      "      dtype='object')\n"
     ]
    }
   ],
   "source": [
    "print(\"Player Columns: \", players_df.columns)\n",
    "print(\"\\nTeam Columns: \", teams_df.columns)\n",
    "print(\"\\nTournament Columns: \", tournaments_df.columns)\n",
    "print(\"\\nLeauge Columns: \", leagues_df.columns)"
   ]
  },
  {
   "cell_type": "code",
   "execution_count": null,
   "id": "7ba974ab",
   "metadata": {},
   "outputs": [],
   "source": [
    "players_df.drop('photo_url', axis = 1)"
   ]
  }
 ],
 "metadata": {
  "kernelspec": {
   "display_name": "Python 3 (ipykernel)",
   "language": "python",
   "name": "python3"
  },
  "language_info": {
   "codemirror_mode": {
    "name": "ipython",
    "version": 3
   },
   "file_extension": ".py",
   "mimetype": "text/x-python",
   "name": "python",
   "nbconvert_exporter": "python",
   "pygments_lexer": "ipython3",
   "version": "3.11.9"
  }
 },
 "nbformat": 4,
 "nbformat_minor": 5
}
