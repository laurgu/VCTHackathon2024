{
 "cells": [
  {
   "cell_type": "code",
   "execution_count": 18,
   "metadata": {},
   "outputs": [],
   "source": [
    "import requests\n",
    "import json\n",
    "import gzip\n",
    "import shutil\n",
    "import time\n",
    "import os\n",
    "from io import BytesIO"
   ]
  },
  {
   "cell_type": "code",
   "execution_count": 19,
   "metadata": {},
   "outputs": [],
   "source": [
    "S3_BUCKET_URL = \"https://vcthackathon-data.s3.us-west-2.amazonaws.com\"\n",
    "\n",
    "# (game-changers, vct-international, vct-challengers)\n",
    "LEAGUE = \"vct-challengers\"\n",
    "\n",
    "# (2022, 2023, 2024)\n",
    "YEAR = 2022"
   ]
  },
  {
   "cell_type": "code",
   "execution_count": 20,
   "metadata": {},
   "outputs": [],
   "source": [
    "def download_gzip_and_write_to_json(file_name):\n",
    "    if os.path.isfile(f\"{file_name}.json\"):\n",
    "        return False\n",
    "\n",
    "    remote_file = f\"{S3_BUCKET_URL}/{file_name}.json.gz\"\n",
    "    response = requests.get(remote_file, stream=True)\n",
    "\n",
    "    if response.status_code == 200:\n",
    "        gzip_bytes = BytesIO(response.content)\n",
    "        with gzip.GzipFile(fileobj=gzip_bytes, mode=\"rb\") as gzipped_file:\n",
    "\n",
    "            # Rename file\n",
    "            file_name = file_name.replace(\":\", \"_\")\n",
    "            \n",
    "            with open(f\"{file_name}.json\", 'wb') as output_file:\n",
    "                shutil.copyfileobj(gzipped_file, output_file)\n",
    "            print(f\"{file_name}.json written\")\n",
    "        return True\n",
    "    elif response.status_code == 404:\n",
    "        # Ignore\n",
    "        return False\n",
    "    else:\n",
    "        print(response)\n",
    "        print(f\"Failed to download {file_name}\")\n",
    "        return False\n",
    "\n",
    "def download_gzip_and_write_to_xml(file_name):\n",
    "    if os.path.isfile(f\"{file_name}.xml\"):\n",
    "        return False\n",
    "\n",
    "    remote_file = f\"{S3_BUCKET_URL}/{file_name}.xml.gz\"\n",
    "    response = requests.get(remote_file, stream=True)\n",
    "\n",
    "    if response.status_code == 200:\n",
    "        gzip_bytes = BytesIO(response.content)\n",
    "        with gzip.GzipFile(fileobj=gzip_bytes, mode=\"rb\") as gzipped_file:\n",
    "            \n",
    "            with open(f\"{file_name}.xml\", 'wb') as output_file:\n",
    "                shutil.copyfileobj(gzipped_file, output_file)\n",
    "            print(f\"{file_name}.xml written\")\n",
    "        return True\n",
    "    elif response.status_code == 404:\n",
    "        # Ignore\n",
    "        return False\n",
    "    else:\n",
    "        print(response)\n",
    "        print(f\"Failed to download {file_name}\")\n",
    "        return False\n",
    "\n",
    "def download_esports_files():\n",
    "    directory = f\"{LEAGUE}/esports-data\"\n",
    "\n",
    "    if not os.path.exists(directory):\n",
    "        os.makedirs(directory)\n",
    "\n",
    "    esports_data_files = [\"leagues\", \"tournaments\",\n",
    "                          \"players\", \"teams\", \"mapping_data\"]\n",
    "    for file_name in esports_data_files:\n",
    "        download_gzip_and_write_to_json(f\"{directory}/{file_name}\")\n",
    "\n",
    "\n",
    "def download_games():\n",
    "    start_time = time.time()\n",
    "\n",
    "    local_mapping_file = f\"{LEAGUE}/esports-data/mapping_data.json\"\n",
    "    with open(local_mapping_file, \"r\") as json_file:\n",
    "        mappings_data = json.load(json_file)\n",
    "\n",
    "    local_directory = f\"{LEAGUE}/games/{YEAR}\"\n",
    "    if not os.path.exists(local_directory):\n",
    "        os.makedirs(local_directory)\n",
    "\n",
    "    game_counter = 0\n",
    "\n",
    "    for esports_game in mappings_data:\n",
    "        s3_game_file = f\"{LEAGUE}/games/{YEAR}/{esports_game[\"platformGameId\"]}\"\n",
    "\n",
    "        response = download_gzip_and_write_to_json(s3_game_file)\n",
    "        \n",
    "        if (response == True):\n",
    "            game_counter += 1\n",
    "            if game_counter % 10 == 0:\n",
    "                print(f\"----- Processed {game_counter} games, current run time: {\n",
    "                    round((time.time() - start_time)/60, 2)} minutes\")\n",
    "\n",
    "def download_fandom_files():\n",
    "    directory = f\"fandom\"\n",
    "\n",
    "    if not os.path.exists(directory):\n",
    "        os.makedirs(directory)\n",
    "\n",
    "    fandom_files = ['valorant_esports_pages', 'valorant_pages']\n",
    "    for file_name in fandom_files:\n",
    "        download_gzip_and_write_to_xml(f\"{directory}/{file_name}\")\n",
    "\n",
    "        "
   ]
  },
  {
   "cell_type": "code",
   "execution_count": 21,
   "metadata": {},
   "outputs": [
    {
     "name": "stdout",
     "output_type": "stream",
     "text": [
      "fandom/valorant_esports_pages.xml written\n",
      "fandom/valorant_pages.xml written\n"
     ]
    }
   ],
   "source": [
    "if __name__ == \"__main__\":\n",
    "    #download_esports_files()\n",
    "    #download_games()\n",
    "    download_fandom_files()"
   ]
  },
  {
   "cell_type": "code",
   "execution_count": null,
   "metadata": {},
   "outputs": [],
   "source": []
  }
 ],
 "metadata": {
  "kernelspec": {
   "display_name": "Python 3",
   "language": "python",
   "name": "python3"
  },
  "language_info": {
   "codemirror_mode": {
    "name": "ipython",
    "version": 3
   },
   "file_extension": ".py",
   "mimetype": "text/x-python",
   "name": "python",
   "nbconvert_exporter": "python",
   "pygments_lexer": "ipython3",
   "version": "3.12.5"
  }
 },
 "nbformat": 4,
 "nbformat_minor": 2
}
