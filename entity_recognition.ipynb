{
 "cells": [
  {
   "cell_type": "code",
   "execution_count": 1,
   "metadata": {},
   "outputs": [],
   "source": [
    "import json\n",
    "import pandas as pd\n"
   ]
  },
  {
   "cell_type": "code",
   "execution_count": 6,
   "metadata": {},
   "outputs": [],
   "source": [
    "players_stats = pd.read_json('Z:\\\\VCT HACK\\\\Cleaned Jsons\\\\allplayer_stats.json')\n",
    "players_intl = pd.read_json('Z:\\\\VCT HACK\\\\Cleaned Jsons\\\\intl_players.json')\n",
    "players_gc = pd.read_json('Z:\\\\VCT HACK\\\\Cleaned Jsons\\\\gc_players.json')\n",
    "players_ch = pd.read_json('Z:\\\\VCT HACK\\\\Cleaned Jsons\\\\ch_players.json')"
   ]
  },
  {
   "cell_type": "code",
   "execution_count": 9,
   "metadata": {},
   "outputs": [],
   "source": [
    "stats_handles = players_stats[['Player']]\n",
    "intl_handles = players_intl[['handle']]\n",
    "gc_handles = players_gc[['handle']]\n",
    "players_ch = players_ch[['handle']]\n",
    "\n",
    "all_handles = pd.concat([stats_handles, intl_handles, gc_handles, players_ch], ignore_index=True)\n",
    "all_handles = all_handles.drop_duplicates()\n",
    "all_handles.to_json('all_player_names.json', orient='records', lines=True)"
   ]
  },
  {
   "cell_type": "code",
   "execution_count": null,
   "metadata": {},
   "outputs": [],
   "source": [
    "def entity_recognition(user_query):\n",
    "\n",
    "    return entity, entity_type\n",
    "\n",
    "def query_opensearch(entity, entity_type):\n"
   ]
  }
 ],
 "metadata": {
  "kernelspec": {
   "display_name": "Python 3",
   "language": "python",
   "name": "python3"
  },
  "language_info": {
   "codemirror_mode": {
    "name": "ipython",
    "version": 3
   },
   "file_extension": ".py",
   "mimetype": "text/x-python",
   "name": "python",
   "nbconvert_exporter": "python",
   "pygments_lexer": "ipython3",
   "version": "3.11.9"
  }
 },
 "nbformat": 4,
 "nbformat_minor": 2
}
