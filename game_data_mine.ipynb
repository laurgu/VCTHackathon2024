{
 "cells": [
  {
   "cell_type": "code",
   "execution_count": 1,
   "metadata": {},
   "outputs": [],
   "source": [
    "import os\n",
    "import pandas as pd\n",
    "import json"
   ]
  },
  {
   "cell_type": "code",
   "execution_count": 6,
   "metadata": {},
   "outputs": [],
   "source": [
    "# Get games for a league\n",
    "games = pd.read_json(\"game-changers/esports-data/mapping_data.json\")\n",
    "\n",
    "# Open target game file\n",
    "target_game = \"0a63934c-9907-4b7c-a553-ac945cc9eea4\"\n",
    "\n",
    "try:\n",
    "        with open(os.path.join('game-changers/games/2022/', 'val_'+target_game+'.json'), 'r') as file:\n",
    "\n",
    "                game_data = json.load(file)\n",
    "except:\n",
    "        print(\"No such file\")"
   ]
  },
  {
   "cell_type": "code",
   "execution_count": 7,
   "metadata": {},
   "outputs": [
    {
     "data": {
      "text/plain": [
       "{'1': '108764514258014973',\n",
       " '2': '108764514005333971',\n",
       " '3': '108764513807403457',\n",
       " '4': '108764522500018946',\n",
       " '5': '108764516777284603',\n",
       " '6': '109030080591889737',\n",
       " '7': '109030079523193762',\n",
       " '8': '109030082839148195',\n",
       " '9': '109030083962930086',\n",
       " '10': '109030081641666982'}"
      ]
     },
     "execution_count": 7,
     "metadata": {},
     "output_type": "execute_result"
    }
   ],
   "source": [
    "# Get player mapping to connect player id \n",
    "session_players = games[games['platformGameId'] == \"val:\"+target_game]['participantMapping']\n",
    "session_players = session_players.to_dict()[session_players.index[0]]\n",
    "session_players"
   ]
  },
  {
   "cell_type": "code",
   "execution_count": 9,
   "metadata": {},
   "outputs": [
    {
     "data": {
      "text/plain": [
       "snapshot                1320\n",
       "configuration            330\n",
       "observerTarget          3562\n",
       "metadata                1979\n",
       "gamePhase                 94\n",
       "playerSpawn              230\n",
       "roundStarted              23\n",
       "spikeStatus              163\n",
       "inventoryTransaction     902\n",
       "damageEvent             1277\n",
       "playerDied               159\n",
       "roundDecided              23\n",
       "roundCeremony             23\n",
       "roundEnded                22\n",
       "timeout                    6\n",
       "gameDecided                1\n",
       "dtype: int64"
      ]
     },
     "execution_count": 9,
     "metadata": {},
     "output_type": "execute_result"
    }
   ],
   "source": [
    "# Get event count\n",
    "\n",
    "event_count = {}\n",
    "\n",
    "for snapshot in game_data:\n",
    "\n",
    "    event_type = list(snapshot.keys())[1]\n",
    "    #print(event_type)\n",
    "\n",
    "    if event_type in event_count:\n",
    "        event_count[event_type] += 1\n",
    "    else:\n",
    "        event_count[event_type] = 1\n",
    "\n",
    "pd.Series(event_count)"
   ]
  },
  {
   "cell_type": "markdown",
   "metadata": {},
   "source": [
    "# Data Mining\n",
    "---\n",
    "Refer to the hackathon [data source docs](https://docs.google.com/document/d/19H3FsWYEli6ShIV5_5fmhq2xDdfcQOCXlRiNvKZLYL8/edit#heading=h.lkyo8c40dcz1) for the structure for each event"
   ]
  },
  {
   "cell_type": "code",
   "execution_count": 12,
   "metadata": {},
   "outputs": [],
   "source": [
    "def getEvents(event_type):\n",
    "\n",
    "    type_events = []\n",
    "\n",
    "    for event in game_data:\n",
    "        \n",
    "        if list(event.keys())[1]  == event_type:\n",
    "            type_events.append(event)\n",
    "    \n",
    "    return type_events"
   ]
  },
  {
   "cell_type": "markdown",
   "metadata": {},
   "source": [
    "### Most Damage Dealt\n",
    "---"
   ]
  },
  {
   "cell_type": "code",
   "execution_count": 23,
   "metadata": {},
   "outputs": [
    {
     "data": {
      "text/plain": [
       "108764516777284603    3316.499673\n",
       "108764514005333971    2701.137631\n",
       "109030079523193762    1455.425219\n",
       "108764513807403457    2520.555618\n",
       "109030083962930086    2761.903740\n",
       "108764514258014973    2583.819286\n",
       "109030080591889737    2596.611325\n",
       "108764522500018946    2534.260872\n",
       "109030082839148195    2086.288773\n",
       "109030081641666982    2860.406178\n",
       "dtype: float64"
      ]
     },
     "execution_count": 23,
     "metadata": {},
     "output_type": "execute_result"
    }
   ],
   "source": [
    "damageEvents = getEvents(\"damageEvent\")\n",
    "\n",
    "damageEvents[0]\n",
    "\n",
    "total_dmg_for_game = {}\n",
    "\n",
    "for event in damageEvents:\n",
    "\n",
    "    causer = session_players[str(event['damageEvent']['causerId']['value'])]\n",
    "    if causer in total_dmg_for_game:\n",
    "\n",
    "        total_dmg_for_game[causer] += event['damageEvent']['damageAmount']\n",
    "\n",
    "    else:\n",
    "        total_dmg_for_game[causer] = event['damageEvent']['damageAmount']\n",
    "\n",
    "pd.Series(total_dmg_for_game)"
   ]
  },
  {
   "cell_type": "markdown",
   "metadata": {},
   "source": [
    "### Target Player Hitbox Hits"
   ]
  },
  {
   "cell_type": "code",
   "execution_count": 25,
   "metadata": {},
   "outputs": [
    {
     "data": {
      "text/plain": [
       "body       430\n",
       "head        98\n",
       "general    749\n",
       "dtype: int64"
      ]
     },
     "execution_count": 25,
     "metadata": {},
     "output_type": "execute_result"
    }
   ],
   "source": [
    "damageEvents = getEvents(\"damageEvent\")\n",
    "\n",
    "hitbox_hit_count = {'body': 0, 'head': 0, 'general': 0}\n",
    "\n",
    "interested_causer = 5\n",
    "\n",
    "for event in damageEvents:\n",
    "\n",
    "    # If body or head shot or general\n",
    "    hitbox_location =  event['damageEvent']['location']\n",
    "    \n",
    "    if hitbox_location == \"BODY\":\n",
    "        hitbox_hit_count['body'] += 1\n",
    "    elif hitbox_location == \"HEAD\":\n",
    "        hitbox_hit_count['head'] += 1\n",
    "    else:   # General and others\n",
    "        hitbox_hit_count['general'] += 1\n",
    "        \n",
    "\n",
    "pd.Series(hitbox_hit_count)"
   ]
  },
  {
   "cell_type": "markdown",
   "metadata": {},
   "source": [
    "### Player with most lethal hits"
   ]
  },
  {
   "cell_type": "code",
   "execution_count": 29,
   "metadata": {},
   "outputs": [
    {
     "data": {
      "text/plain": [
       "108764514005333971    19\n",
       "109030083962930086    20\n",
       "109030080591889737    14\n",
       "108764513807403457    15\n",
       "109030079523193762     8\n",
       "108764516777284603    19\n",
       "108764514258014973    21\n",
       "109030081641666982    20\n",
       "108764522500018946    17\n",
       "109030082839148195    11\n",
       "dtype: int64"
      ]
     },
     "execution_count": 29,
     "metadata": {},
     "output_type": "execute_result"
    }
   ],
   "source": [
    "damageEvents = getEvents(\"damageEvent\")\n",
    "\n",
    "damageEvents[0]\n",
    "\n",
    "lethal_hit_count = {}\n",
    "\n",
    "for event in damageEvents:\n",
    "\n",
    "    causer = session_players[str(event['damageEvent']['causerId']['value'])]\n",
    "\n",
    "    if event['damageEvent']['killEvent']:\n",
    "\n",
    "        if causer in lethal_hit_count:\n",
    "\n",
    "            lethal_hit_count[causer] += 1\n",
    "\n",
    "        else:\n",
    "            lethal_hit_count[causer] = 1\n",
    "\n",
    "pd.Series(lethal_hit_count)"
   ]
  }
 ],
 "metadata": {
  "kernelspec": {
   "display_name": "Python 3",
   "language": "python",
   "name": "python3"
  },
  "language_info": {
   "codemirror_mode": {
    "name": "ipython",
    "version": 3
   },
   "file_extension": ".py",
   "mimetype": "text/x-python",
   "name": "python",
   "nbconvert_exporter": "python",
   "pygments_lexer": "ipython3",
   "version": "3.12.5"
  }
 },
 "nbformat": 4,
 "nbformat_minor": 2
}
