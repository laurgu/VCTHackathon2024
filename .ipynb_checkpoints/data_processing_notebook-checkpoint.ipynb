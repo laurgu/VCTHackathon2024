{
 "cells": [
  {
   "cell_type": "code",
   "execution_count": null,
   "id": "d5118ab3",
   "metadata": {},
   "outputs": [],
   "source": [
    "import pandas as pd"
   ]
  },
  {
   "cell_type": "code",
   "execution_count": null,
   "id": "9cdd5cfe",
   "metadata": {},
   "outputs": [],
   "source": [
    "\n",
    "def json_to_df(filepath, filename):\n",
    "    try:\n",
    "        df = pd.read_json(filepath + filename)\n",
    "        return df\n",
    "    except:\n",
    "        print(\"Invalid file\") \n"
   ]
  },
  {
   "cell_type": "code",
   "execution_count": null,
   "id": "c27f27bf",
   "metadata": {},
   "outputs": [],
   "source": [
    "BASE_DIR = \"Z:\\\\\"\n",
    "FILE_PATH = f\"{BASE_DIR}\\\\vct-international\\esports-data\\\\\""
   ]
  },
  {
   "cell_type": "code",
   "execution_count": null,
   "id": "327d22bf",
   "metadata": {},
   "outputs": [],
   "source": [
    "players_df = json_to_df(FILE_PATH, \"players.json\")\n",
    "teams_df = json_to_df(FILE_PATH, \"players.json\")\n",
    "tournaments_df = json_to_df(FILE_PATH, \"players.json\")\n",
    "leagues_df = json_to_df(FILE_PATH, \"players.json\")"
   ]
  }
 ],
 "metadata": {
  "kernelspec": {
   "display_name": "Python 3 (ipykernel)",
   "language": "python",
   "name": "python3"
  },
  "language_info": {
   "codemirror_mode": {
    "name": "ipython",
    "version": 3
   },
   "file_extension": ".py",
   "mimetype": "text/x-python",
   "name": "python",
   "nbconvert_exporter": "python",
   "pygments_lexer": "ipython3",
   "version": "3.11.9"
  }
 },
 "nbformat": 4,
 "nbformat_minor": 5
}
