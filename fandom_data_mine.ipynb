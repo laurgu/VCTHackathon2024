{
 "cells": [
  {
   "cell_type": "markdown",
   "metadata": {},
   "source": [
    "# Fandom Riot Dump Parsing"
   ]
  },
  {
   "cell_type": "code",
   "execution_count": 468,
   "metadata": {},
   "outputs": [],
   "source": [
    "from bs4 import BeautifulSoup\n",
    "import pandas as pd\n",
    "\n",
    "import mwparserfromhell as mw\n",
    "import os\n",
    "import re\n",
    "import json"
   ]
  },
  {
   "cell_type": "code",
   "execution_count": 469,
   "metadata": {},
   "outputs": [],
   "source": [
    "# Parse files with BS4\n",
    "\n",
    "# filepath = \"fandom/\"\n",
    "filepath = \"Z:\\\\VCT HACK\\\\fandom\\\\\"\n",
    "\n",
    "with open(filepath+\"valorant_esports_pages.xml\", 'r', encoding='utf8') as file:\n",
    "\n",
    "    val_esports_pages = BeautifulSoup(file, \"xml\")\n",
    "    \n",
    "with open(filepath+\"valorant_pages.xml\", 'r', encoding='utf8') as file:\n",
    "\n",
    "    val_pages = BeautifulSoup(file, \"xml\")"
   ]
  },
  {
   "cell_type": "markdown",
   "metadata": {},
   "source": [
    "## Get Valorant player bios"
   ]
  },
  {
   "cell_type": "markdown",
   "metadata": {},
   "source": [
    "### Filter wiki entries to only be player pages"
   ]
  },
  {
   "cell_type": "code",
   "execution_count": 470,
   "metadata": {},
   "outputs": [],
   "source": [
    "# Filter and keep only wiki info entries\n",
    "esports_wiki_entries = []\n",
    "\n",
    "\n",
    "for page_entry in val_esports_pages.find_all('page'):\n",
    "\n",
    "    if page_entry.find('ns').text == \"0\":\n",
    "        esports_wiki_entries.append(page_entry)\n"
   ]
  },
  {
   "cell_type": "code",
   "execution_count": 471,
   "metadata": {},
   "outputs": [],
   "source": [
    "def parse_table(table):\n",
    "    rows = re.split(r'\\|-\\n?', table)\n",
    "    data = []\n",
    "\n",
    "    for row in rows:\n",
    "        if 'class=\"wikitable\"' in row:\n",
    "            continue\n",
    "        \n",
    "        columns = row.split('|')\n",
    "\n",
    "        cleaned_columns = [\n",
    "            re.sub(r'\\[\\[.*?\\|(.*?)\\]\\]', r'\\1', col.strip())\n",
    "            .replace('{{Tick}}', 'Yes')\n",
    "            .replace('{{Cross}}', 'No')\n",
    "            .strip()\n",
    "            for col in columns if col.strip() and not col.startswith('[[File:')]\n",
    "        \n",
    "\n",
    "        if cleaned_columns:\n",
    "            data.append(cleaned_columns)\n",
    "\n",
    "    final_data = {row[0]: row[1] for row in data if len(row) >= 2}\n",
    "\n",
    "    return final_data\n",
    "\n",
    "\n",
    "def parse_infobox(template, sections, custom_sections):\n",
    "\n",
    "    dictionary = {}\n",
    "\n",
    "    for row in template.params:\n",
    "        dictionary[str(row.name).strip().lower()] = (row.value).strip()\n",
    "\n",
    "        for section in sections:\n",
    "                       \n",
    "            try:            \n",
    "                section_title = section.filter_headings()[0].title.strip().lower()\n",
    "\n",
    "                for c in custom_sections:\n",
    "                    if c in section_title:\n",
    "\n",
    "                        processed_section = re.sub(r\"==([^=]+)==\", \"\", str(section).strip())\n",
    "                        \n",
    "                        if processed_section.find(\"wikitable\") != -1:\n",
    "                            dictionary[c] = parse_table(processed_section)\n",
    "\n",
    "                        else:\n",
    "                            dictionary[c] = processed_section\n",
    "            except:\n",
    "                continue        \n",
    "\n",
    "    return dictionary"
   ]
  },
  {
   "cell_type": "code",
   "execution_count": 472,
   "metadata": {},
   "outputs": [],
   "source": [
    "players = []\n",
    "teams = []\n",
    "tournaments = []\n",
    "\n",
    "for page in esports_wiki_entries:\n",
    "    \n",
    "    page_text = mw.parse(page.find('text').text)\n",
    "\n",
    "    templates = page_text.filter_templates()\n",
    "    sections = page_text.get_sections()\n",
    "    \n",
    "    index = 0\n",
    "\n",
    "\n",
    "    if not templates:\n",
    "        continue\n",
    "\n",
    "    for template in templates:\n",
    "\n",
    "        parser = lambda a: parse_infobox(template, sections, a)\n",
    "\n",
    "        if template.name.strip() == \"Infobox Player\" :\n",
    "            player_dict = parser(['biography','trivia','tournament results'])\n",
    "            players.append(player_dict)\n",
    "\n",
    "        elif template.name.strip() == 'Infobox Team':\n",
    "            team_dict = parser(['history', 'timeline', 'player roster', 'organization', 'tournaments'])\n",
    "            teams.append(team_dict)\n",
    "\n",
    "        elif template.name.strip() == 'Infobox Tournament':\n",
    "            tournament_dict = parser(['overview', 'participants', 'result', 'schedule'])\n",
    "            tournaments.append(tournament_dict)"
   ]
  },
  {
   "cell_type": "code",
   "execution_count": 473,
   "metadata": {},
   "outputs": [],
   "source": [
    "players_df = pd.DataFrame(players)\n",
    "teams_df = pd.DataFrame(teams)\n",
    "tournaments_df = pd.DataFrame(tournaments)"
   ]
  },
  {
   "cell_type": "code",
   "execution_count": 474,
   "metadata": {},
   "outputs": [
    {
     "data": {
      "text/plain": [
       "Index(['isretired', 'biography', 'trivia', 'tournament results', 'noteamhist',\n",
       "       'id', 'name', 'pronoun', 'checkboxautoimage', 'checkboxshowimage',\n",
       "       'country', 'residency', 'checkbox-res', 'birth_date_year',\n",
       "       'birth_date_month', 'birth_date_day', 'checkbox1', 'compid1',\n",
       "       'checkboxcomp', 'role', 'checkboxprev', 'checkboxissub',\n",
       "       'checkboxsharesrole', 'checkboxautoteams', 'stream', 'facebook',\n",
       "       'twitter', 'instagram', 'youtube', 'checkboxispersonality',\n",
       "       'checkboxsuppressorgnavbox', 'checkboxsbs', 'checkboxtocr', 'checkbox2',\n",
       "       'checkbox3', 'snapchat', 'reddit', 'discord', 'otherwikis', 'team',\n",
       "       'teamhist1', 'teamdate1', 'isretiredplayer', 'nativename',\n",
       "       'namealphabet', 'compid2', 'low_content', 'checkboxislowercase',\n",
       "       'checkboxplatformprev', 'esea', '5ewin', 'b5csgo', 'steam',\n",
       "       'nationality', 'sponsor', 'site', 'teamrole1', 'pronly', 'isinactive',\n",
       "       'tracker', 'teamrole2', 'prev1', 'image', 'text', 'usercountry',\n",
       "       'input', 'favchamp', 'ids', 'vk', 'favchamp2', 'favchamp3', 'toclimit',\n",
       "       'prev2', 'favchamp4', 'fanpage', 'prev3', 'issub1', 'istrainee1',\n",
       "       'teamhist2', 'teamdate2', 'issub2', 'istrainee2', 'teamhist3',\n",
       "       'teamdate3', 'issub3', 'istrainee3', 'mativename'],\n",
       "      dtype='object')"
      ]
     },
     "execution_count": 474,
     "metadata": {},
     "output_type": "execute_result"
    }
   ],
   "source": [
    "players_df.columns"
   ]
  },
  {
   "cell_type": "code",
   "execution_count": 475,
   "metadata": {},
   "outputs": [],
   "source": [
    "player_wiki_filtered = players_df[['biography', 'trivia', 'tournament results', 'id',\n",
    "                                    'isretired', 'name', 'pronoun', 'country', 'residency', 'birth_date_year', \n",
    "                                    'role', 'stream', 'facebook', 'twitter', 'instagram', 'youtube', 'nativename']]\n",
    "\n",
    "player_wiki_filtered = player_wiki_filtered.rename(columns={'isretired': 'is_retired', 'nativename': 'native_name'})"
   ]
  },
  {
   "cell_type": "code",
   "execution_count": 476,
   "metadata": {},
   "outputs": [
    {
     "data": {
      "text/plain": [
       "Index(['name', 'history', 'timeline', 'player roster', 'organization',\n",
       "       'tournaments', 'orgcountry', 'country', 'region', 'image', 'sponsor',\n",
       "       'headcoach', 'owner', 'website', 'facebook', 'twitter', 'instagram',\n",
       "       'weibo', 'stream', 'youtube', 'discord', 'created', 'disbanded',\n",
       "       'otherwikis', 'auto_teams', 'isdisbanded', 'snapchat', 'rosterphoto',\n",
       "       'subreddit', 'special', 'partner', 'twitch-team', 'lolpros', 'tiktok',\n",
       "       'irc', 'reddit', 'twitch', 'created2', 'foundedcountry', 'coach', 'vk',\n",
       "       'neworg'],\n",
       "      dtype='object')"
      ]
     },
     "execution_count": 476,
     "metadata": {},
     "output_type": "execute_result"
    }
   ],
   "source": [
    "teams_df.columns"
   ]
  },
  {
   "cell_type": "code",
   "execution_count": 477,
   "metadata": {},
   "outputs": [],
   "source": [
    "filtered_teams_df = teams_df[['name', 'history', 'player roster', 'orgcountry', 'country', \n",
    "                              'region', 'headcoach', 'owner', 'isdisbanded', 'website', 'facebook', 'twitter', 'instagram',\n",
    "                              'weibo', 'stream', 'youtube', 'discord', 'created', 'disbanded', 'tiktok','reddit', 'twitch']]\n",
    "\n",
    "filtered_teams_df = filtered_teams_df.rename(columns={'player roster': 'player_roster', 'orgcountry': 'org_counrtry', \n",
    "                                                      'isdisbanded' : 'is_disbanded', 'disbanded' : 'date_disbanded'})"
   ]
  },
  {
   "cell_type": "code",
   "execution_count": 478,
   "metadata": {},
   "outputs": [
    {
     "data": {
      "text/plain": [
       "Index(['name', 'history', 'player_roster', 'org_counrtry', 'country', 'region',\n",
       "       'headcoach', 'owner', 'is_disbanded', 'website', 'facebook', 'twitter',\n",
       "       'instagram', 'weibo', 'stream', 'youtube', 'discord', 'created',\n",
       "       'date_disbanded', 'tiktok', 'reddit', 'twitch'],\n",
       "      dtype='object')"
      ]
     },
     "execution_count": 478,
     "metadata": {},
     "output_type": "execute_result"
    }
   ],
   "source": [
    "filtered_teams_df.columns"
   ]
  },
  {
   "cell_type": "code",
   "execution_count": 479,
   "metadata": {},
   "outputs": [
    {
     "data": {
      "text/plain": [
       "Index(['name', 'overview', 'participants', 'result', 'schedule', 'image',\n",
       "       'organizer', 'rulebook', 'sponsor', 'type', 'region', 'prizepool',\n",
       "       'format', 'date', 'sdate', 'edate', 'website', 'streams', 'linkstreams',\n",
       "       'league', 'first', 'second', 'third', 'third1', 'third2', 'fourth',\n",
       "       'rednotice', 'country', 'qual1', 'qual2', 'qual3', 'qual4',\n",
       "       'cm_standardname', 'cm_tournamentlevel', 'cm_isqualifier',\n",
       "       'cm_isplayoffs', 'cm_isofficial', 'cm_year', 'cm_standardleague',\n",
       "       'cm_leagueiconkey', 'twitter', 'discord', 'organizer2', 'organizer3',\n",
       "       'facebook', 'organizer4', 'youtube', 'instagram', 'split',\n",
       "       'split_number', 'closest_timezone', 'tier', 'location', 'venue',\n",
       "       'platform', 'game', 'mode', 'numberofteams', 'web', 'bracket',\n",
       "       'storedname', 'server', 'address'],\n",
       "      dtype='object')"
      ]
     },
     "execution_count": 479,
     "metadata": {},
     "output_type": "execute_result"
    }
   ],
   "source": [
    "tournaments_df.columns"
   ]
  },
  {
   "cell_type": "code",
   "execution_count": 480,
   "metadata": {},
   "outputs": [],
   "source": [
    "# with open('output.txt', 'w') as f:\n",
    "#     f.write(tournaments_df['result'].to_string(index=False))"
   ]
  },
  {
   "cell_type": "code",
   "execution_count": 481,
   "metadata": {},
   "outputs": [],
   "source": [
    "filtered_tournaments_df = tournaments_df[['name', 'overview', 'participants', 'result', 'schedule', 'organizer', 'type', 'region'\n",
    "                                          , 'prizepool', 'format', 'sdate', 'edate', 'league', 'first', 'second', 'third',\n",
    "                                          'tier', 'location', 'venue', ]]\n",
    "filtered_tournaments_df = filtered_tournaments_df.rename({'sdat': 'start_date', 'edate': 'end_date'}, axis=1)"
   ]
  },
  {
   "cell_type": "code",
   "execution_count": 482,
   "metadata": {},
   "outputs": [],
   "source": [
    "# # Determine how many players from Riot data have wiki pages\n",
    "# # filepath = \"shortlist-model-concept/\"\n",
    "# # filename = \"all-players-stats.json\"\n",
    "\n",
    "# riot_data = pd.read_json(filepath+filename)\n",
    "# riot_data.head()"
   ]
  },
  {
   "cell_type": "code",
   "execution_count": 483,
   "metadata": {},
   "outputs": [],
   "source": [
    "# # Inner join to remove rows that don't have wiki pages\n",
    "\n",
    "# combined_fandom_riot = pd.merge(riot_data, player_wiki_filtered, on='Player', how='inner')\n",
    "# # combined_fandom_riot"
   ]
  },
  {
   "cell_type": "code",
   "execution_count": 484,
   "metadata": {},
   "outputs": [],
   "source": [
    "# combined_fandom_riot.describe(include='all')"
   ]
  },
  {
   "cell_type": "markdown",
   "metadata": {},
   "source": [
    "## Get Valorant Game Information (Agents, Maps, Abilities, etc)\n",
    "---\n",
    "Give more context to the LLM to understand Valorant."
   ]
  },
  {
   "cell_type": "markdown",
   "metadata": {},
   "source": [
    "### Filter wiki entries to only be game info pages"
   ]
  },
  {
   "cell_type": "code",
   "execution_count": 485,
   "metadata": {},
   "outputs": [],
   "source": [
    "def identify_duplicate_columns(df):\n",
    "    duplicate_columns = [col for col in df.columns if df.columns.tolist().count(col) > 1]\n",
    "    print(f\"Duplicate columns: {duplicate_columns}\")\n",
    "\n",
    "\n",
    "def compare_duplicate_columns(df, column_name):\n",
    "    duplicate_indices = [i for i, col in enumerate(df.columns) if col == column_name]\n",
    "    \n",
    "    if len(duplicate_indices) != 2:\n",
    "        print(\"Found more than 2 identically named columns.\")\n",
    "        return None\n",
    "    \n",
    "\n",
    "    col1 = df.iloc[:, duplicate_indices[0]]\n",
    "    col2 = df.iloc[:, duplicate_indices[1]]\n",
    "    \n",
    "\n",
    "    differences = col1 != col2\n",
    "    \n",
    "\n",
    "    if differences.any():\n",
    "        print(f\"Differences found between the two columns named '{column_name}':\")\n",
    "        diff_rows = df[differences]\n",
    "        print(diff_rows[[column_name]])\n",
    "    else:\n",
    "        print(f\"The two columns named '{column_name}' are identical.\")\n",
    "        \n",
    "    return differences\n",
    "\n",
    "\n",
    "def drop_duplicate_column(df, column_name):\n",
    "    duplicate_indices = [i for i, col in enumerate(df.columns) if col == column_name]\n",
    "    \n",
    "    if len(duplicate_indices) != 2:\n",
    "        print(\"Found more than 2 identically named columns.\")\n",
    "        return None\n",
    "    \n",
    "    df = df.drop(df.columns[duplicate_indices[1]], axis=1)\n",
    "\n",
    "    return df\n"
   ]
  },
  {
   "cell_type": "code",
   "execution_count": 486,
   "metadata": {},
   "outputs": [],
   "source": [
    "game_wiki_pages = []\n",
    "\n",
    "for page_entry in val_pages.find_all('page'):\n",
    "\n",
    "    if page_entry.find('ns').text in ['0', '10']:   \n",
    "        game_wiki_pages.append(page_entry)"
   ]
  },
  {
   "cell_type": "code",
   "execution_count": 487,
   "metadata": {},
   "outputs": [],
   "source": [
    "abilities = []\n",
    "maps = []\n",
    "weapons = []\n",
    "\n",
    "for page in game_wiki_pages:\n",
    "    \n",
    "    ability_dict = {}\n",
    "\n",
    "    page_text = mw.parse(page.find('text').text)\n",
    "\n",
    "\n",
    "    templates = page_text.filter_templates()\n",
    "    sections = page_text.get_sections()\n",
    "\n",
    "    parser = lambda a: parse_infobox(template, sections, a)\n",
    "\n",
    "    \n",
    "    index = 0\n",
    "\n",
    "    if not templates:\n",
    "        continue\n",
    "\n",
    "    for template in templates:\n",
    "\n",
    "        if template.name.strip() == \"Infobox ability\" :\n",
    "            ability_dict = parser(['summary', 'stats'])\n",
    "            abilities.append(ability_dict)\n",
    "\n",
    "        elif template.name.strip() == 'Infobox map':\n",
    "            map_dict = parser(['features', 'trivia'])\n",
    "            maps.append(map_dict)\n",
    "\n",
    "        elif template.name.strip() == 'Infobox weapon':\n",
    "            weapon_dict = parser(['summary', 'stats'])\n",
    "            weapons.append(weapon_dict)"
   ]
  },
  {
   "cell_type": "code",
   "execution_count": 488,
   "metadata": {},
   "outputs": [],
   "source": [
    "abilities_df = pd.DataFrame(abilities)\n",
    "maps_df = pd.DataFrame(maps)\n",
    "weapons_df = pd.DataFrame(weapons)"
   ]
  },
  {
   "cell_type": "code",
   "execution_count": 489,
   "metadata": {},
   "outputs": [
    {
     "data": {
      "text/plain": [
       "Index(['title', 'stats', 'image', 'caption', 'description', 'agent', 'type',\n",
       "       'function', 'friendlyfire', 'creds', 'uses', 'key', 'navigation',\n",
       "       'summary', 'health', 'fulleffects', 'restock', 'points', 'mapobjects',\n",
       "       'uses_per_round', 'credits', 'killfeed'],\n",
       "      dtype='object')"
      ]
     },
     "execution_count": 489,
     "metadata": {},
     "output_type": "execute_result"
    }
   ],
   "source": [
    "abilities_df.columns"
   ]
  },
  {
   "cell_type": "code",
   "execution_count": 490,
   "metadata": {},
   "outputs": [],
   "source": [
    "reduced_abilities_df = abilities_df[['title', 'summary', 'stats','description', 'agent', 'type', 'friendlyfire', \n",
    "                             'creds', 'uses', 'type','fulleffects' ,'health', 'restock', 'points', \n",
    "                             'mapobjects', 'function', 'uses_per_round', 'credits']]"
   ]
  },
  {
   "cell_type": "code",
   "execution_count": 491,
   "metadata": {},
   "outputs": [
    {
     "name": "stdout",
     "output_type": "stream",
     "text": [
      "Duplicate columns: ['type', 'type']\n"
     ]
    }
   ],
   "source": [
    "identify_duplicate_columns(reduced_abilities_df)"
   ]
  },
  {
   "cell_type": "code",
   "execution_count": 492,
   "metadata": {},
   "outputs": [
    {
     "name": "stdout",
     "output_type": "stream",
     "text": [
      "The two columns named 'type' are identical.\n"
     ]
    },
    {
     "data": {
      "text/plain": [
       "0      False\n",
       "1      False\n",
       "2      False\n",
       "3      False\n",
       "4      False\n",
       "       ...  \n",
       "97     False\n",
       "98     False\n",
       "99     False\n",
       "100    False\n",
       "101    False\n",
       "Name: type, Length: 102, dtype: bool"
      ]
     },
     "execution_count": 492,
     "metadata": {},
     "output_type": "execute_result"
    }
   ],
   "source": [
    "compare_duplicate_columns(reduced_abilities_df,'type')"
   ]
  },
  {
   "cell_type": "code",
   "execution_count": 493,
   "metadata": {},
   "outputs": [
    {
     "name": "stdout",
     "output_type": "stream",
     "text": [
      "Index(['title', 'summary', 'stats', 'description', 'agent', 'friendlyfire',\n",
      "       'creds', 'uses', 'fulleffects', 'health', 'restock', 'points',\n",
      "       'mapobjects', 'function', 'uses_per_round', 'credits'],\n",
      "      dtype='object')\n",
      "Duplicate columns: []\n",
      "None\n"
     ]
    }
   ],
   "source": [
    "reduced_abilities_df = drop_duplicate_column(reduced_abilities_df, 'type')\n",
    "\n",
    "print(reduced_abilities_df.columns)\n",
    "print(identify_duplicate_columns(reduced_abilities_df))"
   ]
  },
  {
   "cell_type": "code",
   "execution_count": 494,
   "metadata": {},
   "outputs": [
    {
     "data": {
      "text/plain": [
       "Index(['title', 'features', 'trivia', 'image', 'caption', 'location',\n",
       "       'elements', 'sites', 'mini-map', 'caption2', 'added', 'theme',\n",
       "       'coordinates', 'codename', 'rotation', 'pages', 'teleporters', '1'],\n",
       "      dtype='object')"
      ]
     },
     "execution_count": 494,
     "metadata": {},
     "output_type": "execute_result"
    }
   ],
   "source": [
    "maps_df.columns"
   ]
  },
  {
   "cell_type": "code",
   "execution_count": 495,
   "metadata": {},
   "outputs": [
    {
     "data": {
      "text/html": [
       "<div>\n",
       "<style scoped>\n",
       "    .dataframe tbody tr th:only-of-type {\n",
       "        vertical-align: middle;\n",
       "    }\n",
       "\n",
       "    .dataframe tbody tr th {\n",
       "        vertical-align: top;\n",
       "    }\n",
       "\n",
       "    .dataframe thead th {\n",
       "        text-align: right;\n",
       "    }\n",
       "</style>\n",
       "<table border=\"1\" class=\"dataframe\">\n",
       "  <thead>\n",
       "    <tr style=\"text-align: right;\">\n",
       "      <th></th>\n",
       "      <th>title</th>\n",
       "      <th>features</th>\n",
       "      <th>trivia</th>\n",
       "      <th>image</th>\n",
       "      <th>caption</th>\n",
       "      <th>location</th>\n",
       "      <th>elements</th>\n",
       "      <th>sites</th>\n",
       "      <th>mini-map</th>\n",
       "      <th>caption2</th>\n",
       "      <th>added</th>\n",
       "      <th>theme</th>\n",
       "      <th>coordinates</th>\n",
       "      <th>codename</th>\n",
       "      <th>rotation</th>\n",
       "      <th>pages</th>\n",
       "      <th>teleporters</th>\n",
       "      <th>1</th>\n",
       "    </tr>\n",
       "  </thead>\n",
       "  <tbody>\n",
       "    <tr>\n",
       "      <th>0</th>\n",
       "      <td>Bind</td>\n",
       "      <td>\\nBind's unique feature is that it doesn't con...</td>\n",
       "      <td>\\n*Bind and Rabat are [[Cypher]]'s home</td>\n",
       "      <td>Loading Screen Bind.png</td>\n",
       "      <td></td>\n",
       "      <td>{{fi|MA}} Rabat, Rabat-Salé-Kénitra, Morocco, ...</td>\n",
       "      <td>One-way teleporters&lt;br&gt;One-way automatic doors</td>\n",
       "      <td>A/B</td>\n",
       "      <td>Bind minimap.png</td>\n",
       "      <td></td>\n",
       "      <td>[[Closed Beta|Beta]]</td>\n",
       "      <td>{{PAGENAME}}</td>\n",
       "      <td>34°2'A\" N 6°51'Z\" W&lt;br&gt;(34°2'0\" N 6°51'0\" W)</td>\n",
       "      <td>Duality</td>\n",
       "      <td>Enabled</td>\n",
       "      <td>{{*}} [[Bind/Lore]]&lt;br&gt;{{lorewikiarticle}}</td>\n",
       "      <td>NaN</td>\n",
       "      <td>NaN</td>\n",
       "    </tr>\n",
       "    <tr>\n",
       "      <th>1</th>\n",
       "      <td>Haven</td>\n",
       "      <td>\\nHaven's features include an additional third...</td>\n",
       "      <td>\\n*In A site tower, there is an empty sniper r...</td>\n",
       "      <td>Loading Screen Haven.png</td>\n",
       "      <td></td>\n",
       "      <td>{{fi|BT}} Thimphu, Thimphu District, Bhutan, A...</td>\n",
       "      <td>400 HP destructible panels</td>\n",
       "      <td>A/B/C</td>\n",
       "      <td>Haven minimap.png</td>\n",
       "      <td>NaN</td>\n",
       "      <td>[[Closed Beta|Beta]]</td>\n",
       "      <td>{{PAGENAME}}</td>\n",
       "      <td>27°28'A\" N 89°38'WZ\" E&lt;br&gt;(27°28'0\" N 89°38'30...</td>\n",
       "      <td>Triad</td>\n",
       "      <td>Enabled</td>\n",
       "      <td>{{lorewikiarticle}}</td>\n",
       "      <td>NaN</td>\n",
       "      <td>NaN</td>\n",
       "    </tr>\n",
       "    <tr>\n",
       "      <th>2</th>\n",
       "      <td>Split</td>\n",
       "      <td>\\nSplit is the first map to use ascenders. The...</td>\n",
       "      <td>\\n* At B Link, the backdrop is named Scuttle S...</td>\n",
       "      <td>Loading Screen Split.png</td>\n",
       "      <td>NaN</td>\n",
       "      <td>{{fi|JP}} Shinjuku, Tokyo, Kantō, Japan, Alpha...</td>\n",
       "      <td>Rope ascenders</td>\n",
       "      <td>A/B</td>\n",
       "      <td>Split minimap.png</td>\n",
       "      <td>NaN</td>\n",
       "      <td>[[Closed Beta|Beta]]</td>\n",
       "      <td>{{PAGENAME}}</td>\n",
       "      <td>35°41'CD\" N 139°41'WX\" E&lt;br&gt;(35°41'23\" N 139°4...</td>\n",
       "      <td>Bonsai</td>\n",
       "      <td>Removed</td>\n",
       "      <td>{{*}} [[Split/Quotes]]&lt;br&gt;{{lorewikiarticle}}</td>\n",
       "      <td>N/A</td>\n",
       "      <td>NaN</td>\n",
       "    </tr>\n",
       "    <tr>\n",
       "      <th>3</th>\n",
       "      <td>Range</td>\n",
       "      <td>{''''Speed': 'Easy {{*}} Medium {{*}} Hard', '...</td>\n",
       "      <td>\\n*Previously, the entrance to the office unde...</td>\n",
       "      <td>Loading Screen Range.png</td>\n",
       "      <td>NaN</td>\n",
       "      <td>{{fi|IT}} Poveglia, Venice, Veneto, Italy, Alp...</td>\n",
       "      <td>NaN</td>\n",
       "      <td>NaN</td>\n",
       "      <td>Range minimap.png</td>\n",
       "      <td>NaN</td>\n",
       "      <td>NaN</td>\n",
       "      <td>{{PAGENAME}}</td>\n",
       "      <td>45°26'FF\" N 12°20'Q\" E&lt;br&gt;(45°26'55\" N 12°20'9...</td>\n",
       "      <td>Poveglia</td>\n",
       "      <td>NaN</td>\n",
       "      <td>{{*}} [[Range/Lore]]&lt;br&gt;{{lorewikiarticle|The ...</td>\n",
       "      <td>NaN</td>\n",
       "      <td>NaN</td>\n",
       "    </tr>\n",
       "    <tr>\n",
       "      <th>4</th>\n",
       "      <td>Ascent</td>\n",
       "      <td>\\nAscent's features include mechanical doors l...</td>\n",
       "      <td>\\n*Ascent contains landmarks from Venice such ...</td>\n",
       "      <td>Loading Screen Ascent.png</td>\n",
       "      <td>NaN</td>\n",
       "      <td>{{fi|IT}} San Marco, Venice, Veneto, Italy, Al...</td>\n",
       "      <td>NaN</td>\n",
       "      <td>A/B</td>\n",
       "      <td>Ascent minimap.png</td>\n",
       "      <td>NaN</td>\n",
       "      <td>June 2nd, 2020&lt;br&gt;&lt;small&gt;([[Episode 01: IGNITI...</td>\n",
       "      <td>{{PAGENAME}}</td>\n",
       "      <td>45°26'BF\" N 12°20'Q\" E&lt;br&gt;(45°26'15\" N 12°20'9...</td>\n",
       "      <td>Ascent</td>\n",
       "      <td>Enabled</td>\n",
       "      <td>{{lorewikiarticle}}</td>\n",
       "      <td>NaN</td>\n",
       "      <td>NaN</td>\n",
       "    </tr>\n",
       "  </tbody>\n",
       "</table>\n",
       "</div>"
      ],
      "text/plain": [
       "    title                                           features  \\\n",
       "0    Bind  \\nBind's unique feature is that it doesn't con...   \n",
       "1   Haven  \\nHaven's features include an additional third...   \n",
       "2   Split  \\nSplit is the first map to use ascenders. The...   \n",
       "3   Range  {''''Speed': 'Easy {{*}} Medium {{*}} Hard', '...   \n",
       "4  Ascent  \\nAscent's features include mechanical doors l...   \n",
       "\n",
       "                                              trivia  \\\n",
       "0            \\n*Bind and Rabat are [[Cypher]]'s home   \n",
       "1  \\n*In A site tower, there is an empty sniper r...   \n",
       "2  \\n* At B Link, the backdrop is named Scuttle S...   \n",
       "3  \\n*Previously, the entrance to the office unde...   \n",
       "4  \\n*Ascent contains landmarks from Venice such ...   \n",
       "\n",
       "                       image caption  \\\n",
       "0    Loading Screen Bind.png           \n",
       "1   Loading Screen Haven.png           \n",
       "2   Loading Screen Split.png     NaN   \n",
       "3   Loading Screen Range.png     NaN   \n",
       "4  Loading Screen Ascent.png     NaN   \n",
       "\n",
       "                                            location  \\\n",
       "0  {{fi|MA}} Rabat, Rabat-Salé-Kénitra, Morocco, ...   \n",
       "1  {{fi|BT}} Thimphu, Thimphu District, Bhutan, A...   \n",
       "2  {{fi|JP}} Shinjuku, Tokyo, Kantō, Japan, Alpha...   \n",
       "3  {{fi|IT}} Poveglia, Venice, Veneto, Italy, Alp...   \n",
       "4  {{fi|IT}} San Marco, Venice, Veneto, Italy, Al...   \n",
       "\n",
       "                                         elements  sites            mini-map  \\\n",
       "0  One-way teleporters<br>One-way automatic doors    A/B    Bind minimap.png   \n",
       "1                      400 HP destructible panels  A/B/C   Haven minimap.png   \n",
       "2                                  Rope ascenders    A/B   Split minimap.png   \n",
       "3                                             NaN    NaN   Range minimap.png   \n",
       "4                                             NaN    A/B  Ascent minimap.png   \n",
       "\n",
       "  caption2                                              added         theme  \\\n",
       "0                                        [[Closed Beta|Beta]]  {{PAGENAME}}   \n",
       "1      NaN                               [[Closed Beta|Beta]]  {{PAGENAME}}   \n",
       "2      NaN                               [[Closed Beta|Beta]]  {{PAGENAME}}   \n",
       "3      NaN                                                NaN  {{PAGENAME}}   \n",
       "4      NaN  June 2nd, 2020<br><small>([[Episode 01: IGNITI...  {{PAGENAME}}   \n",
       "\n",
       "                                         coordinates  codename rotation  \\\n",
       "0       34°2'A\" N 6°51'Z\" W<br>(34°2'0\" N 6°51'0\" W)   Duality  Enabled   \n",
       "1  27°28'A\" N 89°38'WZ\" E<br>(27°28'0\" N 89°38'30...     Triad  Enabled   \n",
       "2  35°41'CD\" N 139°41'WX\" E<br>(35°41'23\" N 139°4...    Bonsai  Removed   \n",
       "3  45°26'FF\" N 12°20'Q\" E<br>(45°26'55\" N 12°20'9...  Poveglia      NaN   \n",
       "4  45°26'BF\" N 12°20'Q\" E<br>(45°26'15\" N 12°20'9...    Ascent  Enabled   \n",
       "\n",
       "                                               pages teleporters    1  \n",
       "0         {{*}} [[Bind/Lore]]<br>{{lorewikiarticle}}         NaN  NaN  \n",
       "1                                {{lorewikiarticle}}         NaN  NaN  \n",
       "2      {{*}} [[Split/Quotes]]<br>{{lorewikiarticle}}         N/A  NaN  \n",
       "3  {{*}} [[Range/Lore]]<br>{{lorewikiarticle|The ...         NaN  NaN  \n",
       "4                                {{lorewikiarticle}}         NaN  NaN  "
      ]
     },
     "execution_count": 495,
     "metadata": {},
     "output_type": "execute_result"
    }
   ],
   "source": [
    "maps_df.head()"
   ]
  },
  {
   "cell_type": "code",
   "execution_count": 496,
   "metadata": {},
   "outputs": [],
   "source": [
    "reduced_maps_df = maps_df[['title', 'features', 'trivia', 'location', 'elements', \n",
    "                           'sites', 'added', 'codename', 'rotation', 'teleporters', 'coordinates']]"
   ]
  },
  {
   "cell_type": "code",
   "execution_count": 497,
   "metadata": {},
   "outputs": [
    {
     "data": {
      "text/plain": [
       "Index(['title', 'summary', 'image', 'icon', 'killfeed', 'type', 'length',\n",
       "       'credits', 'mode', 'magazine', 'penetration', 'rate', 'run', 'equip',\n",
       "       'spread', 'reload', 'function', 'zoom', 'altrate', 'move', 'altspread',\n",
       "       '0-15m', '15-30m', '30-50m', 'reserve', 'notes', 'feature', 'creator',\n",
       "       'stats', 'caption', '0-30m', '0-20m', '20-50m', '0-50m',\n",
       "       'primarypellet', 'distance', 'pellet', '0-8m', '8-12m', '12-50m',\n",
       "       '0-7m', '7-15m', '15-50m', 'burst', '0-10m', '10-15m', '1'],\n",
       "      dtype='object')"
      ]
     },
     "execution_count": 497,
     "metadata": {},
     "output_type": "execute_result"
    }
   ],
   "source": [
    "weapons_df.columns"
   ]
  },
  {
   "cell_type": "code",
   "execution_count": 498,
   "metadata": {},
   "outputs": [
    {
     "data": {
      "text/html": [
       "<div>\n",
       "<style scoped>\n",
       "    .dataframe tbody tr th:only-of-type {\n",
       "        vertical-align: middle;\n",
       "    }\n",
       "\n",
       "    .dataframe tbody tr th {\n",
       "        vertical-align: top;\n",
       "    }\n",
       "\n",
       "    .dataframe thead th {\n",
       "        text-align: right;\n",
       "    }\n",
       "</style>\n",
       "<table border=\"1\" class=\"dataframe\">\n",
       "  <thead>\n",
       "    <tr style=\"text-align: right;\">\n",
       "      <th></th>\n",
       "      <th>title</th>\n",
       "      <th>summary</th>\n",
       "      <th>image</th>\n",
       "      <th>icon</th>\n",
       "      <th>killfeed</th>\n",
       "      <th>type</th>\n",
       "      <th>length</th>\n",
       "      <th>credits</th>\n",
       "      <th>mode</th>\n",
       "      <th>magazine</th>\n",
       "      <th>...</th>\n",
       "      <th>0-8m</th>\n",
       "      <th>8-12m</th>\n",
       "      <th>12-50m</th>\n",
       "      <th>0-7m</th>\n",
       "      <th>7-15m</th>\n",
       "      <th>15-50m</th>\n",
       "      <th>burst</th>\n",
       "      <th>0-10m</th>\n",
       "      <th>10-15m</th>\n",
       "      <th>1</th>\n",
       "    </tr>\n",
       "  </thead>\n",
       "  <tbody>\n",
       "    <tr>\n",
       "      <th>0</th>\n",
       "      <td>Phantom</td>\n",
       "      <td>{'rowspan=\"3\"': '30–50  m', 'Body': '4', 'Legs...</td>\n",
       "      <td>Phantom.png</td>\n",
       "      <td>[[File:Phantom icon.png|100x100px]]</td>\n",
       "      <td>[[File:Phantom killfeed.png|50x50px]]</td>\n",
       "      <td>[[Weapons#Rifles|Rifle]]</td>\n",
       "      <td>121.11 cm &lt;br&gt; 90.59 cm without silencer</td>\n",
       "      <td>2,900</td>\n",
       "      <td>Auto</td>\n",
       "      <td>30</td>\n",
       "      <td>...</td>\n",
       "      <td>NaN</td>\n",
       "      <td>NaN</td>\n",
       "      <td>NaN</td>\n",
       "      <td>NaN</td>\n",
       "      <td>NaN</td>\n",
       "      <td>NaN</td>\n",
       "      <td>NaN</td>\n",
       "      <td>NaN</td>\n",
       "      <td>NaN</td>\n",
       "      <td>NaN</td>\n",
       "    </tr>\n",
       "  </tbody>\n",
       "</table>\n",
       "<p>1 rows × 47 columns</p>\n",
       "</div>"
      ],
      "text/plain": [
       "     title                                            summary        image  \\\n",
       "0  Phantom  {'rowspan=\"3\"': '30–50  m', 'Body': '4', 'Legs...  Phantom.png   \n",
       "\n",
       "                                  icon                               killfeed  \\\n",
       "0  [[File:Phantom icon.png|100x100px]]  [[File:Phantom killfeed.png|50x50px]]   \n",
       "\n",
       "                       type                                    length credits  \\\n",
       "0  [[Weapons#Rifles|Rifle]]  121.11 cm <br> 90.59 cm without silencer   2,900   \n",
       "\n",
       "   mode magazine  ... 0-8m 8-12m 12-50m 0-7m 7-15m 15-50m burst 0-10m 10-15m  \\\n",
       "0  Auto       30  ...  NaN   NaN    NaN  NaN   NaN    NaN   NaN   NaN    NaN   \n",
       "\n",
       "     1  \n",
       "0  NaN  \n",
       "\n",
       "[1 rows x 47 columns]"
      ]
     },
     "execution_count": 498,
     "metadata": {},
     "output_type": "execute_result"
    }
   ],
   "source": [
    "weapons_df.head(1)"
   ]
  },
  {
   "cell_type": "code",
   "execution_count": 499,
   "metadata": {},
   "outputs": [],
   "source": [
    "reduced_weapons_df = weapons_df.drop(['image', 'icon', 'killfeed', '1'], axis=1)"
   ]
  },
  {
   "cell_type": "markdown",
   "metadata": {},
   "source": [
    "Save the files to json"
   ]
  },
  {
   "cell_type": "code",
   "execution_count": 500,
   "metadata": {},
   "outputs": [],
   "source": [
    "def convert_nested_dataframes(record):\n",
    "    for key, value in record.items():\n",
    "        if isinstance(value, pd.DataFrame):\n",
    "            record[key] = value.to_dict(orient='records')  \n",
    "    return record\n",
    "\n",
    "\n",
    "def save_to_json(filepath, filename, df):\n",
    "    df.fillna(\"\", inplace=True)  \n",
    "\n",
    "    records = df.to_dict(orient='records')\n",
    "\n",
    "    nested_records = [convert_nested_dataframes(record) for record in records]\n",
    "\n",
    "    full_path = f\"{filepath}/{filename}\" \n",
    "    with open(full_path, 'w') as json_file:\n",
    "        json.dump(nested_records, json_file, indent=4)"
   ]
  },
  {
   "cell_type": "code",
   "execution_count": 501,
   "metadata": {},
   "outputs": [
    {
     "name": "stderr",
     "output_type": "stream",
     "text": [
      "C:\\Users\\laure\\AppData\\Local\\Temp\\ipykernel_14080\\3656474752.py:9: SettingWithCopyWarning: \n",
      "A value is trying to be set on a copy of a slice from a DataFrame\n",
      "\n",
      "See the caveats in the documentation: https://pandas.pydata.org/pandas-docs/stable/user_guide/indexing.html#returning-a-view-versus-a-copy\n",
      "  df.fillna(\"\", inplace=True)\n"
     ]
    }
   ],
   "source": [
    "path = \"Z:\\VCT HACK\\Cleaned Jsons\"\n",
    "\n",
    "save_to_json(path, \"fandom_players.json\", player_wiki_filtered)\n",
    "save_to_json(path, \"fandom_teams.json\", filtered_teams_df)\n",
    "save_to_json(path, \"fandom_tournaments.json\", filtered_tournaments_df)\n",
    "save_to_json(path, \"fandom_maps.json\", reduced_maps_df)\n",
    "save_to_json(path, \"fandom_abilities.json\", reduced_abilities_df)\n",
    "save_to_json(path, \"fandom_weapons.json\", reduced_weapons_df)"
   ]
  }
 ],
 "metadata": {
  "kernelspec": {
   "display_name": "Python 3",
   "language": "python",
   "name": "python3"
  },
  "language_info": {
   "codemirror_mode": {
    "name": "ipython",
    "version": 3
   },
   "file_extension": ".py",
   "mimetype": "text/x-python",
   "name": "python",
   "nbconvert_exporter": "python",
   "pygments_lexer": "ipython3",
   "version": "3.11.9"
  }
 },
 "nbformat": 4,
 "nbformat_minor": 2
}
