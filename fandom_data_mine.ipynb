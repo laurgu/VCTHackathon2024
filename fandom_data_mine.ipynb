{
 "cells": [
  {
   "cell_type": "markdown",
   "metadata": {},
   "source": [
    "# Fandom Riot Dump Parsing"
   ]
  },
  {
   "cell_type": "code",
   "execution_count": 3,
   "metadata": {},
   "outputs": [],
   "source": [
    "from bs4 import BeautifulSoup\n",
    "import pandas as pd\n",
    "\n",
    "import mwparserfromhell as mw\n",
    "import os\n",
    "import re"
   ]
  },
  {
   "cell_type": "code",
   "execution_count": 4,
   "metadata": {},
   "outputs": [],
   "source": [
    "# Parse files with BS4\n",
    "\n",
    "# filepath = \"fandom/\"\n",
    "filepath = \"Z:\\\\VCT HACK\\\\fandom\\\\\"\n",
    "\n",
    "with open(filepath+\"valorant_esports_pages.xml\", 'r', encoding='utf8') as file:\n",
    "\n",
    "    val_esports_pages = BeautifulSoup(file, \"xml\")\n",
    "    \n",
    "with open(filepath+\"valorant_pages.xml\", 'r', encoding='utf8') as file:\n",
    "\n",
    "    val_pages = BeautifulSoup(file, \"xml\")"
   ]
  },
  {
   "cell_type": "markdown",
   "metadata": {},
   "source": [
    "## Get Valorant player bios"
   ]
  },
  {
   "cell_type": "markdown",
   "metadata": {},
   "source": [
    "### Filter wiki entries to only be player pages"
   ]
  },
  {
   "cell_type": "code",
   "execution_count": 5,
   "metadata": {},
   "outputs": [],
   "source": [
    "# Filter and keep only wiki info entries\n",
    "esports_wiki_entries = []\n",
    "\n",
    "\n",
    "for page_entry in val_esports_pages.find_all('page'):\n",
    "\n",
    "    if page_entry.find('ns').text == \"0\":\n",
    "        esports_wiki_entries.append(page_entry)\n"
   ]
  },
  {
   "cell_type": "code",
   "execution_count": 6,
   "metadata": {},
   "outputs": [],
   "source": [
    "# Further filter by main text if it has a player info box\n",
    "\n",
    "esports_wiki_player_entries = []\n",
    "\n",
    "\n",
    "for page_entry in esports_wiki_entries:\n",
    "\n",
    "    if \"Infobox Player\" in page_entry.find('text').text:\n",
    "        esports_wiki_player_entries.append(page_entry)\n"
   ]
  },
  {
   "cell_type": "code",
   "execution_count": 7,
   "metadata": {},
   "outputs": [],
   "source": [
    "missing_infobox = 0\n",
    "\n",
    "player_info_dicts = []\n",
    "\n",
    "# Extract data from player pages\n",
    "for page in esports_wiki_player_entries:\n",
    "    \n",
    "    # Print player page data\n",
    "    player_info = {}\n",
    "\n",
    "    # print(f\"Player: {page.find('title').text}\")\n",
    "    # print(f\"Last Updated: {page.find('timestamp').text}\")\n",
    "\n",
    "    # Add to dict\n",
    "    player_info['player'] = (page.find('title').text).strip()\n",
    "    player_info['last_update'] = page.find('timestamp').text\n",
    "\n",
    "    page_text = mw.parse(page.find('text').text)\n",
    "\n",
    "    templates = page_text.filter_templates()\n",
    "    sections = page_text.get_sections()\n",
    "    \n",
    "    # Get infobox player data\n",
    "\n",
    "    # Check if infobox is available\n",
    "    if templates[0].name.strip() == \"Infobox Player\":\n",
    "        player_infobox = templates[0]\n",
    "\n",
    "        for row in player_infobox.params:\n",
    "\n",
    "            player_info[str(row.name)] = (row.value).strip()\n",
    "\n",
    "    else:\n",
    "        # print(\"No infobox found\")\n",
    "        missing_infobox += 1\n",
    "\n",
    "    # Check if biography and trivia exist\n",
    "    for section in sections:\n",
    "\n",
    "        try:\n",
    "            section_title = section.filter_headings()[0].title.strip().lower()\n",
    "            #print(section_title)\n",
    "\n",
    "            if \"biography\" in section_title:\n",
    "                biography = str(section).replace(\"== Biography ==\", \"\").replace(\"==Biography==\", \"\").strip()\n",
    "                # print(f\"Bio: {biography}\")\n",
    "\n",
    "            if \"trivia\" in section_title:\n",
    "                trivia = str(section).replace(\"== Trivia ==\", \"\").replace(\"==Trivia==\", \"\").strip()\n",
    "                # print(f\"Trivia: {trivia}\")\n",
    "        except:\n",
    "            continue\n",
    "\n",
    "    player_info['bio'] = biography\n",
    "    player_info['trivia'] = trivia\n",
    "\n",
    "\n",
    "    player_info_dicts.append(player_info)\n",
    "    \n"
   ]
  },
  {
   "cell_type": "code",
   "execution_count": 8,
   "metadata": {},
   "outputs": [],
   "source": [
    "# Convert to pandas for easier manipulation\n",
    "player_wiki = pd.DataFrame(player_info_dicts)"
   ]
  },
  {
   "cell_type": "code",
   "execution_count": 9,
   "metadata": {},
   "outputs": [
    {
     "data": {
      "text/plain": [
       "Index(['player', 'last_update', 'isretired', 'noteamhist', 'id', 'name',\n",
       "       'pronoun', 'checkboxAutoImage', 'checkboxShowImage', 'country',\n",
       "       'residency', 'checkbox-res', 'birth_date_year', 'birth_date_month',\n",
       "       'birth_date_day', 'checkbox1', 'compID1', 'checkboxComp', 'role',\n",
       "       'checkboxPrev', 'checkboxIsSub', 'checkboxSharesRole',\n",
       "       'checkboxAutoTeams', 'stream', 'facebook', 'twitter', 'instagram',\n",
       "       'youtube', 'checkboxIsPersonality', 'checkboxSuppressOrgNavbox',\n",
       "       'checkboxSBS', 'checkboxTOCR', 'checkbox2', 'checkbox3', 'bio',\n",
       "       'trivia', 'snapchat', 'reddit', 'discord', 'otherwikis', 'team',\n",
       "       'teamhist1', 'teamdate1', 'isretiredplayer', 'nativename',\n",
       "       'namealphabet', 'compID2', 'low_content', 'checkboxIsLowercase',\n",
       "       'checkboxPlatformPrev', 'esea', '5ewin', 'b5csgo', 'steam',\n",
       "       'nationality', 'sponsor', 'site', 'teamrole1', 'pronly', 'isinactive',\n",
       "       'tracker', 'teamrole2', 'prev1', 'image', 'text', 'usercountry',\n",
       "       'input', 'favchamp', 'ids', 'vk', 'favchamp2', 'favchamp3', 'TOCLimit',\n",
       "       'prev2', 'favchamp4', 'fanpage', 'prev3', 'issub1', 'istrainee1',\n",
       "       'teamhist2', 'teamdate2', 'issub2', 'istrainee2', 'teamhist3',\n",
       "       'teamdate3', 'issub3', 'istrainee3', 'mativename'],\n",
       "      dtype='object')"
      ]
     },
     "execution_count": 9,
     "metadata": {},
     "output_type": "execute_result"
    }
   ],
   "source": [
    "# Show all columns currently\n",
    "player_wiki.columns"
   ]
  },
  {
   "cell_type": "code",
   "execution_count": 10,
   "metadata": {},
   "outputs": [],
   "source": [
    "# Remove columns we don't need\n",
    "player_wiki_filtered = player_wiki[['player', 'bio', 'trivia', 'isretired', 'name', 'pronoun', 'country', 'residency', 'birth_date_year', 'role', 'stream', 'facebook', 'twitter', 'instagram', 'youtube', 'nativename', 'last_update']]\n",
    "\n",
    "# Rename columns to make it easier\n",
    "player_wiki_filtered = player_wiki_filtered.rename(columns={'player': 'Player', 'isretired': 'is_retired', 'nativename': 'native_name'})\n",
    "# player_wiki_filtered\n",
    "\n"
   ]
  },
  {
   "cell_type": "code",
   "execution_count": 11,
   "metadata": {},
   "outputs": [],
   "source": [
    "# Save to json\n",
    "# fielpath = \"Cleaned-Jsons/\"\n",
    "filepath = \"Z:\\\\VCT HACK\\\\Cleaned Jsons\\\\\"\n",
    "\n",
    "player_wiki_filtered.to_json(filepath+\"players-wiki.json\")"
   ]
  },
  {
   "cell_type": "code",
   "execution_count": 12,
   "metadata": {},
   "outputs": [
    {
     "ename": "NameError",
     "evalue": "name 'filename' is not defined",
     "output_type": "error",
     "traceback": [
      "\u001b[1;31m---------------------------------------------------------------------------\u001b[0m",
      "\u001b[1;31mNameError\u001b[0m                                 Traceback (most recent call last)",
      "Cell \u001b[1;32mIn[12], line 5\u001b[0m\n\u001b[0;32m      1\u001b[0m \u001b[38;5;66;03m# Determine how many players from Riot data have wiki pages\u001b[39;00m\n\u001b[0;32m      2\u001b[0m \u001b[38;5;66;03m# filepath = \"shortlist-model-concept/\"\u001b[39;00m\n\u001b[0;32m      3\u001b[0m \u001b[38;5;66;03m# filename = \"all-players-stats.json\"\u001b[39;00m\n\u001b[1;32m----> 5\u001b[0m riot_data \u001b[38;5;241m=\u001b[39m pd\u001b[38;5;241m.\u001b[39mread_json(filepath\u001b[38;5;241m+\u001b[39m\u001b[43mfilename\u001b[49m)\n\u001b[0;32m      6\u001b[0m riot_data\u001b[38;5;241m.\u001b[39mhead()\n",
      "\u001b[1;31mNameError\u001b[0m: name 'filename' is not defined"
     ]
    }
   ],
   "source": [
    "# Determine how many players from Riot data have wiki pages\n",
    "# filepath = \"shortlist-model-concept/\"\n",
    "# filename = \"all-players-stats.json\"\n",
    "\n",
    "riot_data = pd.read_json(filepath+filename)\n",
    "riot_data.head()"
   ]
  },
  {
   "cell_type": "code",
   "execution_count": 64,
   "metadata": {},
   "outputs": [
    {
     "ename": "NameError",
     "evalue": "name 'riot_data' is not defined",
     "output_type": "error",
     "traceback": [
      "\u001b[1;31m---------------------------------------------------------------------------\u001b[0m",
      "\u001b[1;31mNameError\u001b[0m                                 Traceback (most recent call last)",
      "Cell \u001b[1;32mIn[64], line 3\u001b[0m\n\u001b[0;32m      1\u001b[0m \u001b[38;5;66;03m# Inner join to remove rows that don't have wiki pages\u001b[39;00m\n\u001b[1;32m----> 3\u001b[0m combined_fandom_riot \u001b[38;5;241m=\u001b[39m pd\u001b[38;5;241m.\u001b[39mmerge(\u001b[43mriot_data\u001b[49m, player_wiki_filtered, on\u001b[38;5;241m=\u001b[39m\u001b[38;5;124m'\u001b[39m\u001b[38;5;124mPlayer\u001b[39m\u001b[38;5;124m'\u001b[39m, how\u001b[38;5;241m=\u001b[39m\u001b[38;5;124m'\u001b[39m\u001b[38;5;124minner\u001b[39m\u001b[38;5;124m'\u001b[39m)\n\u001b[0;32m      4\u001b[0m \u001b[38;5;66;03m# combined_fandom_riot\u001b[39;00m\n",
      "\u001b[1;31mNameError\u001b[0m: name 'riot_data' is not defined"
     ]
    }
   ],
   "source": [
    "# Inner join to remove rows that don't have wiki pages\n",
    "\n",
    "combined_fandom_riot = pd.merge(riot_data, player_wiki_filtered, on='Player', how='inner')\n",
    "# combined_fandom_riot"
   ]
  },
  {
   "cell_type": "code",
   "execution_count": 63,
   "metadata": {},
   "outputs": [],
   "source": [
    "# combined_fandom_riot.describe(include='all')"
   ]
  },
  {
   "cell_type": "markdown",
   "metadata": {},
   "source": [
    "## Get Valorant Game Information (Agents, Maps, Abilities, etc)\n",
    "---\n",
    "Give more context to the LLM to understand Valorant."
   ]
  },
  {
   "cell_type": "markdown",
   "metadata": {},
   "source": [
    "### Filter wiki entries to only be game info pages"
   ]
  },
  {
   "cell_type": "code",
   "execution_count": 13,
   "metadata": {},
   "outputs": [],
   "source": [
    "# Filter and keep only wiki info entries\n",
    "game_wiki_pages = []\n",
    "\n",
    "for page_entry in val_pages.find_all('page'):\n",
    "\n",
    "    \"\"\"\n",
    "    Namespaces:\n",
    "    0 -> All wiki entries such as Agents, Maps, About content, etc\n",
    "    10 -> Tables and templates. Some pages are linked to tables and they are also in this namespace (Ex: Agent Table)\n",
    "    \n",
    "    Some of Namespace 10 are not useful. Look over and filter out what tables we actually want by name (Ex: Template:Agent Table)\n",
    "    \n",
    "    \"\"\"\n",
    "    if page_entry.find('ns').text in ['0', '10']:   \n",
    "        game_wiki_pages.append(page_entry)\n",
    "\n",
    "#game_wiki_pages, len(game_wiki_pages)"
   ]
  },
  {
   "cell_type": "code",
   "execution_count": 17,
   "metadata": {},
   "outputs": [],
   "source": [
    "# this code is so inefficient so much repetition is actually bruns my eyes to look at but i am lazy\n",
    "def parse_ability(template, sections):\n",
    "\n",
    "    ability_dict = {}\n",
    "\n",
    "    for row in template.params:\n",
    "        ability_dict[str(row.name)] = (row.value).strip()\n",
    "\n",
    "        for section in sections:\n",
    "\n",
    "                try:            \n",
    "                    section_title = section.filter_headings()[0].title.strip().lower()\n",
    "\n",
    "                    if \"summary\" in section_title or 'description' in section_title:\n",
    "                        summary = str(section).replace(\"== Summary ==\", \"\").replace(\"==Summary==\", \"\").replace(\"== Description ==\", \"\").replace(\"==Description==\", \"\").strip()\n",
    "                        ability_dict['summary'] = summary\n",
    "                     \n",
    "\n",
    "                    elif \"stats\" in section_title in section_title:\n",
    "                        stats = str(section).replace(\"== Stats ==\", \"\").replace(\"==Stats==\", \"\").strip()\n",
    "                        ability_dict['stats'] = stats\n",
    "\n",
    "                except:\n",
    "                    continue     \n",
    "\n",
    "    return ability_dict\n",
    "\n",
    "def parse_map(template, sections):\n",
    "     \n",
    "    map_dict = {}\n",
    "\n",
    "    for row in template.params:\n",
    "        map_dict[str(row.name)] = (row.value).strip()\n",
    "\n",
    "        for section in sections:\n",
    "\n",
    "                try:            \n",
    "                    section_title = section.filter_headings()[0].title.strip().lower()\n",
    "\n",
    "                    if \"features\" in section_title:\n",
    "                        features = str(section).replace(\"== Features ==\", \"\").replace(\"==Features==\", \"\").strip()\n",
    "                        map_dict['features'] = features\n",
    "                     \n",
    "\n",
    "                    elif \"trivia\" in section_title:\n",
    "                        trivia = str(section).replace(\"== Trivia ==\", \"\").replace(\"==Trivia==\", \"\").strip()\n",
    "                        map_dict['trivia'] = trivia\n",
    "\n",
    "                except:\n",
    "                    continue     \n",
    "\n",
    "    return map_dict\n",
    "\n",
    "def parse_map(template, sections):\n",
    "     \n",
    "    map_dict = {}\n",
    "\n",
    "    for row in template.params:\n",
    "        map_dict[str(row.name)] = (row.value).strip()\n",
    "\n",
    "        for section in sections:\n",
    "\n",
    "                try:            \n",
    "                    section_title = section.filter_headings()[0].title.strip().lower()\n",
    "\n",
    "                    if \"features\" in section_title:\n",
    "                        features = str(section).replace(\"== Features ==\", \"\").replace(\"==Features==\", \"\").strip()\n",
    "                        map_dict['features'] = features\n",
    "                     \n",
    "\n",
    "                    elif \"trivia\" in section_title:\n",
    "                        trivia = str(section).replace(\"== Trivia ==\", \"\").replace(\"==Trivia==\", \"\").strip()\n",
    "                        map_dict['trivia'] = trivia\n",
    "\n",
    "                except:\n",
    "                    continue     \n",
    "\n",
    "    return map_dict\n",
    "\n",
    "def parse_weapon(template, sections):\n",
    "     \n",
    "    weapon_dict = {}\n",
    "\n",
    "    for row in template.params:\n",
    "        weapon_dict[str(row.name)] = (row.value).strip()\n",
    "\n",
    "        for section in sections:\n",
    "\n",
    "                try:            \n",
    "                    section_title = section.filter_headings()[0].title.strip().lower()\n",
    "\n",
    "                    if \"summary\" in section_title:\n",
    "                        summary = str(section).replace(\"== Summary ==\", \"\").replace(\"==Summary==\", \"\").strip()\n",
    "                        weapon_dict['summary'] = summary\n",
    "                     \n",
    "\n",
    "                    elif \"stats\" in section_title:\n",
    "                        stats = str(section).replace(\"== Stats ==\", \"\").replace(\"==Stats==\", \"\").strip()\n",
    "                        weapon_dict['stats'] = stats\n",
    "\n",
    "                except:\n",
    "                    continue     \n",
    "\n",
    "    return weapon_dict"
   ]
  },
  {
   "cell_type": "markdown",
   "metadata": {},
   "source": [
    "Abilities"
   ]
  },
  {
   "cell_type": "code",
   "execution_count": 18,
   "metadata": {},
   "outputs": [],
   "source": [
    "abilities = []\n",
    "maps = []\n",
    "weapons = []\n",
    "\n",
    "# Extract data from wiki pages\n",
    "for page in game_wiki_pages:\n",
    "    \n",
    "    # Print player page data\n",
    "    ability_dict = {}\n",
    "\n",
    "    page_text = mw.parse(page.find('text').text)\n",
    "\n",
    "    # print(page_text)\n",
    "\n",
    "    templates = page_text.filter_templates()\n",
    "    sections = page_text.get_sections()\n",
    "    \n",
    "    index = 0\n",
    "\n",
    "    if not templates:\n",
    "        continue\n",
    "\n",
    "    for template in templates:\n",
    "\n",
    "        if template.name.strip() == \"Infobox ability\" :\n",
    "            ability_dict = parse_ability(template, sections)\n",
    "            abilities.append(ability_dict)\n",
    "\n",
    "        elif template.name.strip() == 'Infobox map':\n",
    "            map_dict = parse_map(template, sections)\n",
    "            maps.append(map_dict)\n",
    "\n",
    "        elif template.name.strip() == 'Infobox weapon':\n",
    "            weapon_dict = parse_weapon(template, sections)\n",
    "            weapons.append(weapon_dict)"
   ]
  },
  {
   "cell_type": "code",
   "execution_count": 47,
   "metadata": {},
   "outputs": [],
   "source": [
    "abilities_df = pd.DataFrame(abilities)\n",
    "maps_df = pd.DataFrame(maps)\n",
    "weapons_df = pd.DataFrame(weapons)"
   ]
  },
  {
   "cell_type": "code",
   "execution_count": 112,
   "metadata": {},
   "outputs": [],
   "source": [
    "cleaned_columns = [column.strip() for column in abilities_df.columns]\n",
    "abilities_df.columns = cleaned_columns\n"
   ]
  },
  {
   "cell_type": "code",
   "execution_count": 113,
   "metadata": {},
   "outputs": [
    {
     "data": {
      "text/plain": [
       "Index(['title', 'summary', 'stats', 'image', 'caption', 'description', 'agent',\n",
       "       'type', 'function', 'friendlyfire', 'creds', 'uses', 'key',\n",
       "       'navigation', 'title', 'image', 'description', 'agent', 'type',\n",
       "       'health', 'fulleffects', 'restock', 'points', 'mapobjects', 'restock',\n",
       "       'function', 'uses_per_round', 'health', 'credits', 'uses_per_round',\n",
       "       'caption', 'credits', 'creds', 'points', 'key', 'uses', 'killfeed'],\n",
       "      dtype='object')"
      ]
     },
     "execution_count": 113,
     "metadata": {},
     "output_type": "execute_result"
    }
   ],
   "source": [
    "abilities_df.columns"
   ]
  },
  {
   "cell_type": "code",
   "execution_count": 114,
   "metadata": {},
   "outputs": [],
   "source": [
    "cleaned_abilities_df = abilities_df[['title', 'summary', 'stats','description', 'agent', 'type', 'function', 'friendlyfire', \n",
    "                             'creds', 'uses', 'type', 'health', 'restock', 'points', 'mapobjects', 'function', 'uses_per_round', 'creds']]"
   ]
  },
  {
   "cell_type": "code",
   "execution_count": 115,
   "metadata": {},
   "outputs": [
    {
     "name": "stdout",
     "output_type": "stream",
     "text": [
      "Duplicate columns: ['uses', 'uses_per_round', 'function', 'restock', 'agent', 'creds', 'description', 'points', 'title', 'health', 'type']\n"
     ]
    }
   ],
   "source": [
    "columns = cleaned_abilities_df\n",
    "\n",
    "duplicate_columns = [col for col in set(columns) if list(columns).count(col) > 1]\n",
    "\n",
    "print(\"Duplicate columns:\", duplicate_columns)"
   ]
  },
  {
   "cell_type": "code",
   "execution_count": 116,
   "metadata": {},
   "outputs": [],
   "source": [
    "def deduplicate_columns(df):\n",
    "    cols = pd.Series(df.columns)\n",
    "    for dup in cols[cols.duplicated()].unique(): \n",
    "        cols[cols[cols == dup].index.values.tolist()] = [dup + '.' + str(i) if i != 0 else dup for i in range(sum(cols == dup))]\n",
    "    df.columns = cols\n",
    "    return df\n",
    "\n",
    "\n",
    "renamed_df = deduplicate_columns(cleaned_abilities_df)\n",
    "\n",
    "renamed_df.columns\n",
    "\n",
    "def compare_columns(column1, column2):\n",
    "\n",
    "    identical = True\n",
    "    indexes = []\n",
    "\n",
    "    for i in range(0,len(column1)):\n",
    "\n",
    "        if pd.isna(column1.iloc[i]) and pd.isna(column2.iloc[i]):\n",
    "            continue\n",
    "        \n",
    "        if column1.iloc[i] != column2.iloc[i]:\n",
    "            identical = False\n",
    "            indexes.append(i)\n",
    "\n",
    "    if identical:\n",
    "        print(\"Identical columns\")\n",
    "\n",
    "    else:\n",
    "        print(\"Different rows: \")\n",
    "\n",
    "        for index in indexes:\n",
    "            \n",
    "            print(f\"Column 1: {column1.iloc[index]} Column 2: {column2.iloc[index]}\")"
   ]
  },
  {
   "cell_type": "code",
   "execution_count": 82,
   "metadata": {},
   "outputs": [
    {
     "name": "stdout",
     "output_type": "stream",
     "text": [
      "Identical columns\n",
      "None\n",
      "Identical columns\n",
      "None\n",
      "Identical columns\n",
      "None\n"
     ]
    }
   ],
   "source": [
    "cleaned_abilities_df = deduplicate_columns(cleaned_abilities_df)\n",
    "\n",
    "for column in duplicate_columns:\n",
    "\n",
    "    print(compare_columns())"
   ]
  },
  {
   "cell_type": "code",
   "execution_count": 93,
   "metadata": {},
   "outputs": [],
   "source": [
    "cleaned_abilities_df = renamed_df.drop(['function.1', 'type.1', 'creds.1'], axis=1)"
   ]
  },
  {
   "cell_type": "code",
   "execution_count": 94,
   "metadata": {},
   "outputs": [
    {
     "name": "stdout",
     "output_type": "stream",
     "text": [
      "           title                                            summary  \\\n",
      "0      Curveball  Curveball is a [[Blind]] ability that [[Phoeni...   \n",
      "1            NaN  Slow Orb is a [[Crowd Control]] ability that [...   \n",
      "2            NaN  Barrier Orb is primarily a [[Barrier]] ability...   \n",
      "3            NaN  Healing Orb is a [[Sustain]] ability that [[Sa...   \n",
      "4            NaN  Resurrection is a [[Sustain]] ability that [[S...   \n",
      "..           ...                                                ...   \n",
      "97     Razorvine  Razorvine is a [[Crowd Control]] ability that ...   \n",
      "98         Shear  Shear is primarily an [[Intel]] ability that V...   \n",
      "99      Arc Rose  Arc Rose is primarily a [[Blind]] ability that...   \n",
      "100          NaN  Steel Garden is a [[Limiter]] ability that Vys...   \n",
      "101  Stim Beacon                                                NaN   \n",
      "\n",
      "                                                 stats  \\\n",
      "0    {| class=\"wikitable\" style=\"text-align:left\"\\n...   \n",
      "1    {| class=\"wikitable\" style=\"text-align:left\"\\n...   \n",
      "2    {| class=\"wikitable\" style=\"text-align:left\"\\n...   \n",
      "3    {| class=\"wikitable\" style=\"text-align:left\"\\n...   \n",
      "4    {| class=\"wikitable\" style=\"text-align:left\"\\n...   \n",
      "..                                                 ...   \n",
      "97   {{stub}}\\n{| class=\"wikitable\" style=\"text-ali...   \n",
      "98   {| class=\"wikitable\" style=\"text-align:left\"\\n...   \n",
      "99   {{stub}}\\n{| class=\"wikitable\" style=\"text-ali...   \n",
      "100  {| class=\"wikitable\" style=\"text-align:left\"\\n...   \n",
      "101                                                NaN   \n",
      "\n",
      "                                           description           agent  \\\n",
      "0    Throw a curving flare orb that detonates to bl...  {{ai|Phoenix}}   \n",
      "1                                                  NaN             NaN   \n",
      "2                                                  NaN             NaN   \n",
      "3                                                  NaN             NaN   \n",
      "4                                                  NaN             NaN   \n",
      "..                                                 ...             ...   \n",
      "97   Throw a nest of liquid metal that goes invisib...     {{ai|Vyse}}   \n",
      "98   Place a covert wall trap between two walls. Wh...             NaN   \n",
      "99   Place a arc rose that can be reused to blind a...     {{ai|Vyse}}   \n",
      "100                                                NaN             NaN   \n",
      "101                                                                      \n",
      "\n",
      "                                  type  \\\n",
      "0            [[Abilities#Basic|Basic]]   \n",
      "1                                  NaN   \n",
      "2                                  NaN   \n",
      "3                                  NaN   \n",
      "4                                  NaN   \n",
      "..                                 ...   \n",
      "97           [[Abilities#Basic|Basic]]   \n",
      "98                                 NaN   \n",
      "99   [[Abilities#Signature|Signature]]   \n",
      "100                                NaN   \n",
      "101                                      \n",
      "\n",
      "                                              function          friendlyfire  \\\n",
      "0                                [[Blind#Flash|Flash]]                   Yes   \n",
      "1                          [[Crowd Control#Slow|Slow]]                   Yes   \n",
      "2          [[Barrier]]<br>[[Vision Blocker#Wall|Wall]]                   NaN   \n",
      "3                                [[Sustain#Heal|Heal]]                   NaN   \n",
      "4                            [[Sustain#Revive|Revive]]                   NaN   \n",
      "..                                                 ...                   ...   \n",
      "97                         [[Crowd Control#Slow|Slow]]  Yes (damage reduced)   \n",
      "98   [[Intel#Autonomous Deployable|Autonomous Deplo...                   NaN   \n",
      "99   [[Intel#Controlled Deployable|Controlled Deplo...                   Yes   \n",
      "100                                        [[Limiter]]                    No   \n",
      "101                                                                      NaN   \n",
      "\n",
      "    creds uses                                             health  \\\n",
      "0     250    2                                                NaN   \n",
      "1     200    2                                                NaN   \n",
      "2     400    1  400 HP per segment (initial)<br>800 HP per seg...   \n",
      "3     NaN    1                                                NaN   \n",
      "4     NaN  NaN                                                NaN   \n",
      "..    ...  ...                                                ...   \n",
      "97    150    2                                              50 HP   \n",
      "98    200    1                                                NaN   \n",
      "99    NaN    1                                                NaN   \n",
      "100   NaN  NaN                                                NaN   \n",
      "101                                                           NaN   \n",
      "\n",
      "                                               restock points mapobjects  \\\n",
      "0                                                  NaN    NaN        NaN   \n",
      "1                                                  NaN    NaN        NaN   \n",
      "2                                                  NaN    NaN        NaN   \n",
      "3                                                  NaN    NaN        NaN   \n",
      "4                                                  NaN    NaN        NaN   \n",
      "..                                                 ...    ...        ...   \n",
      "97                                                 NaN    NaN        NaN   \n",
      "98                                                 NaN    NaN        NaN   \n",
      "99   20 seconds (per use or recalled)<br>45 seconds...    NaN        NaN   \n",
      "100                                                NaN    NaN        NaN   \n",
      "101                                                NaN    NaN        NaN   \n",
      "\n",
      "    uses_per_round  \n",
      "0              NaN  \n",
      "1              NaN  \n",
      "2              NaN  \n",
      "3              NaN  \n",
      "4              NaN  \n",
      "..             ...  \n",
      "97             NaN  \n",
      "98             NaN  \n",
      "99             NaN  \n",
      "100            NaN  \n",
      "101                 \n",
      "\n",
      "[102 rows x 15 columns]\n"
     ]
    }
   ],
   "source": [
    "print(cleaned_abilities_df)"
   ]
  }
 ],
 "metadata": {
  "kernelspec": {
   "display_name": "Python 3",
   "language": "python",
   "name": "python3"
  },
  "language_info": {
   "codemirror_mode": {
    "name": "ipython",
    "version": 3
   },
   "file_extension": ".py",
   "mimetype": "text/x-python",
   "name": "python",
   "nbconvert_exporter": "python",
   "pygments_lexer": "ipython3",
   "version": "3.11.9"
  }
 },
 "nbformat": 4,
 "nbformat_minor": 2
}
